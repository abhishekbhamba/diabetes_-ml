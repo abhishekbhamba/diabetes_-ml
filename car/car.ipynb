{
 "cells": [
  {
   "cell_type": "markdown",
   "id": "53c59fd0",
   "metadata": {},
   "source": [
    "# CAR SALES DATA"
   ]
  },
  {
   "cell_type": "markdown",
   "id": "2f7cc111",
   "metadata": {},
   "source": [
    "## Introduction\n",
    "This dataset contain more than 2.5 million records on car sales. This dataset contain car information with sale price, commission, date, make etc.\n",
    "- Date: The date of car sale.\n",
    "- Salesperson: Name of the sales person.\n",
    "- Customer Name: Name of the customer.\n",
    "- Car Make: Company Name.\n",
    "- Car Model: Model Name of the Car\n",
    "- Car Year: Car purchasing year.\n",
    "- Sale Price: selling price of the car USD.\n",
    "- Commission Rate: The commission rate paid to sales person on sale.\n",
    "- Commission Earned: Commission earned during the sales."
   ]
  },
  {
   "cell_type": "code",
   "execution_count": null,
   "id": "4b72ea96",
   "metadata": {},
   "outputs": [],
   "source": []
  },
  {
   "cell_type": "code",
   "execution_count": 2,
   "id": "b4137217",
   "metadata": {},
   "outputs": [],
   "source": [
    "# importing all libraries\n",
    "import pandas as pd\n",
    "import matplotlib.pyplot as plt\n",
    "import missingno as msno\n",
    "import seaborn as sns"
   ]
  },
  {
   "cell_type": "code",
   "execution_count": 3,
   "id": "27590097",
   "metadata": {},
   "outputs": [
    {
     "data": {
      "text/html": [
       "<div>\n",
       "<style scoped>\n",
       "    .dataframe tbody tr th:only-of-type {\n",
       "        vertical-align: middle;\n",
       "    }\n",
       "\n",
       "    .dataframe tbody tr th {\n",
       "        vertical-align: top;\n",
       "    }\n",
       "\n",
       "    .dataframe thead th {\n",
       "        text-align: right;\n",
       "    }\n",
       "</style>\n",
       "<table border=\"1\" class=\"dataframe\">\n",
       "  <thead>\n",
       "    <tr style=\"text-align: right;\">\n",
       "      <th></th>\n",
       "      <th>Date</th>\n",
       "      <th>Salesperson</th>\n",
       "      <th>Customer Name</th>\n",
       "      <th>Car Make</th>\n",
       "      <th>Car Model</th>\n",
       "      <th>Car Year</th>\n",
       "      <th>Sale Price</th>\n",
       "      <th>Commission Rate</th>\n",
       "      <th>Commission Earned</th>\n",
       "    </tr>\n",
       "  </thead>\n",
       "  <tbody>\n",
       "    <tr>\n",
       "      <th>0</th>\n",
       "      <td>2022-08-01</td>\n",
       "      <td>Monica Moore MD</td>\n",
       "      <td>Mary Butler</td>\n",
       "      <td>Nissan</td>\n",
       "      <td>Altima</td>\n",
       "      <td>2018</td>\n",
       "      <td>15983</td>\n",
       "      <td>0.070495</td>\n",
       "      <td>1126.73</td>\n",
       "    </tr>\n",
       "    <tr>\n",
       "      <th>1</th>\n",
       "      <td>2023-03-15</td>\n",
       "      <td>Roberto Rose</td>\n",
       "      <td>Richard Pierce</td>\n",
       "      <td>Nissan</td>\n",
       "      <td>F-150</td>\n",
       "      <td>2016</td>\n",
       "      <td>38474</td>\n",
       "      <td>0.134439</td>\n",
       "      <td>5172.40</td>\n",
       "    </tr>\n",
       "    <tr>\n",
       "      <th>2</th>\n",
       "      <td>2023-04-29</td>\n",
       "      <td>Ashley Ramos</td>\n",
       "      <td>Sandra Moore</td>\n",
       "      <td>Ford</td>\n",
       "      <td>Civic</td>\n",
       "      <td>2016</td>\n",
       "      <td>33340</td>\n",
       "      <td>0.114536</td>\n",
       "      <td>3818.63</td>\n",
       "    </tr>\n",
       "    <tr>\n",
       "      <th>3</th>\n",
       "      <td>2022-09-04</td>\n",
       "      <td>Patrick Harris</td>\n",
       "      <td>Johnny Scott</td>\n",
       "      <td>Ford</td>\n",
       "      <td>Altima</td>\n",
       "      <td>2013</td>\n",
       "      <td>41937</td>\n",
       "      <td>0.092191</td>\n",
       "      <td>3866.20</td>\n",
       "    </tr>\n",
       "    <tr>\n",
       "      <th>4</th>\n",
       "      <td>2022-06-16</td>\n",
       "      <td>Eric Lopez</td>\n",
       "      <td>Vanessa Jones</td>\n",
       "      <td>Honda</td>\n",
       "      <td>Silverado</td>\n",
       "      <td>2022</td>\n",
       "      <td>20256</td>\n",
       "      <td>0.113490</td>\n",
       "      <td>2298.85</td>\n",
       "    </tr>\n",
       "  </tbody>\n",
       "</table>\n",
       "</div>"
      ],
      "text/plain": [
       "         Date      Salesperson   Customer Name Car Make  Car Model  Car Year  \\\n",
       "0  2022-08-01  Monica Moore MD     Mary Butler   Nissan     Altima      2018   \n",
       "1  2023-03-15     Roberto Rose  Richard Pierce   Nissan      F-150      2016   \n",
       "2  2023-04-29     Ashley Ramos    Sandra Moore     Ford      Civic      2016   \n",
       "3  2022-09-04   Patrick Harris    Johnny Scott     Ford     Altima      2013   \n",
       "4  2022-06-16       Eric Lopez   Vanessa Jones    Honda  Silverado      2022   \n",
       "\n",
       "   Sale Price  Commission Rate  Commission Earned  \n",
       "0       15983         0.070495            1126.73  \n",
       "1       38474         0.134439            5172.40  \n",
       "2       33340         0.114536            3818.63  \n",
       "3       41937         0.092191            3866.20  \n",
       "4       20256         0.113490            2298.85  "
      ]
     },
     "execution_count": 3,
     "metadata": {},
     "output_type": "execute_result"
    }
   ],
   "source": [
    "df=pd.read_csv(\"car_sales_data.csv\") # loading dataset.\n",
    "df.head()"
   ]
  },
  {
   "cell_type": "code",
   "execution_count": 4,
   "id": "b725694f",
   "metadata": {
    "scrolled": true
   },
   "outputs": [
    {
     "data": {
      "text/html": [
       "<div>\n",
       "<style scoped>\n",
       "    .dataframe tbody tr th:only-of-type {\n",
       "        vertical-align: middle;\n",
       "    }\n",
       "\n",
       "    .dataframe tbody tr th {\n",
       "        vertical-align: top;\n",
       "    }\n",
       "\n",
       "    .dataframe thead th {\n",
       "        text-align: right;\n",
       "    }\n",
       "</style>\n",
       "<table border=\"1\" class=\"dataframe\">\n",
       "  <thead>\n",
       "    <tr style=\"text-align: right;\">\n",
       "      <th></th>\n",
       "      <th>Date</th>\n",
       "      <th>Salesperson</th>\n",
       "      <th>Customer Name</th>\n",
       "      <th>Car Make</th>\n",
       "      <th>Car Model</th>\n",
       "      <th>Car Year</th>\n",
       "      <th>Sale Price</th>\n",
       "      <th>Commission Rate</th>\n",
       "      <th>Commission Earned</th>\n",
       "    </tr>\n",
       "  </thead>\n",
       "  <tbody>\n",
       "    <tr>\n",
       "      <th>2499995</th>\n",
       "      <td>2022-05-26</td>\n",
       "      <td>Isabella Moore</td>\n",
       "      <td>Shirley Lee</td>\n",
       "      <td>Chevrolet</td>\n",
       "      <td>Silverado</td>\n",
       "      <td>2021</td>\n",
       "      <td>49823</td>\n",
       "      <td>0.062977</td>\n",
       "      <td>3137.70</td>\n",
       "    </tr>\n",
       "    <tr>\n",
       "      <th>2499996</th>\n",
       "      <td>2022-10-03</td>\n",
       "      <td>Kimberly Snow</td>\n",
       "      <td>Tara Rodgers</td>\n",
       "      <td>Ford</td>\n",
       "      <td>F-150</td>\n",
       "      <td>2022</td>\n",
       "      <td>18803</td>\n",
       "      <td>0.068339</td>\n",
       "      <td>1284.97</td>\n",
       "    </tr>\n",
       "    <tr>\n",
       "      <th>2499997</th>\n",
       "      <td>2022-06-07</td>\n",
       "      <td>Jessica Young</td>\n",
       "      <td>Jennifer Moore</td>\n",
       "      <td>Chevrolet</td>\n",
       "      <td>Civic</td>\n",
       "      <td>2010</td>\n",
       "      <td>30863</td>\n",
       "      <td>0.088915</td>\n",
       "      <td>2744.19</td>\n",
       "    </tr>\n",
       "    <tr>\n",
       "      <th>2499998</th>\n",
       "      <td>2023-02-15</td>\n",
       "      <td>Donald Barber</td>\n",
       "      <td>Ashley Diaz</td>\n",
       "      <td>Honda</td>\n",
       "      <td>Silverado</td>\n",
       "      <td>2014</td>\n",
       "      <td>26125</td>\n",
       "      <td>0.088260</td>\n",
       "      <td>2305.80</td>\n",
       "    </tr>\n",
       "    <tr>\n",
       "      <th>2499999</th>\n",
       "      <td>2023-03-24</td>\n",
       "      <td>Kayla Fowler</td>\n",
       "      <td>Nathan Thompson</td>\n",
       "      <td>Honda</td>\n",
       "      <td>Civic</td>\n",
       "      <td>2010</td>\n",
       "      <td>20762</td>\n",
       "      <td>0.137105</td>\n",
       "      <td>2846.57</td>\n",
       "    </tr>\n",
       "  </tbody>\n",
       "</table>\n",
       "</div>"
      ],
      "text/plain": [
       "               Date     Salesperson    Customer Name   Car Make  Car Model  \\\n",
       "2499995  2022-05-26  Isabella Moore      Shirley Lee  Chevrolet  Silverado   \n",
       "2499996  2022-10-03   Kimberly Snow     Tara Rodgers       Ford      F-150   \n",
       "2499997  2022-06-07   Jessica Young   Jennifer Moore  Chevrolet      Civic   \n",
       "2499998  2023-02-15   Donald Barber      Ashley Diaz      Honda  Silverado   \n",
       "2499999  2023-03-24    Kayla Fowler  Nathan Thompson      Honda      Civic   \n",
       "\n",
       "         Car Year  Sale Price  Commission Rate  Commission Earned  \n",
       "2499995      2021       49823         0.062977            3137.70  \n",
       "2499996      2022       18803         0.068339            1284.97  \n",
       "2499997      2010       30863         0.088915            2744.19  \n",
       "2499998      2014       26125         0.088260            2305.80  \n",
       "2499999      2010       20762         0.137105            2846.57  "
      ]
     },
     "execution_count": 4,
     "metadata": {},
     "output_type": "execute_result"
    }
   ],
   "source": [
    "df.tail()"
   ]
  },
  {
   "cell_type": "code",
   "execution_count": 6,
   "id": "c30d1563",
   "metadata": {},
   "outputs": [
    {
     "data": {
      "text/plain": [
       "(2500000, 9)"
      ]
     },
     "execution_count": 6,
     "metadata": {},
     "output_type": "execute_result"
    }
   ],
   "source": [
    "# What is the size of the dataset?\n",
    "df.shape # rows and columns"
   ]
  },
  {
   "cell_type": "code",
   "execution_count": 7,
   "id": "010cf4c1",
   "metadata": {},
   "outputs": [
    {
     "data": {
      "text/plain": [
       "Index(['Date', 'Salesperson', 'Customer Name', 'Car Make', 'Car Model',\n",
       "       'Car Year', 'Sale Price', 'Commission Rate', 'Commission Earned'],\n",
       "      dtype='object')"
      ]
     },
     "execution_count": 7,
     "metadata": {},
     "output_type": "execute_result"
    }
   ],
   "source": [
    "df.columns # column names."
   ]
  },
  {
   "cell_type": "code",
   "execution_count": 8,
   "id": "eb4ddfe5",
   "metadata": {},
   "outputs": [
    {
     "data": {
      "text/html": [
       "<div>\n",
       "<style scoped>\n",
       "    .dataframe tbody tr th:only-of-type {\n",
       "        vertical-align: middle;\n",
       "    }\n",
       "\n",
       "    .dataframe tbody tr th {\n",
       "        vertical-align: top;\n",
       "    }\n",
       "\n",
       "    .dataframe thead th {\n",
       "        text-align: right;\n",
       "    }\n",
       "</style>\n",
       "<table border=\"1\" class=\"dataframe\">\n",
       "  <thead>\n",
       "    <tr style=\"text-align: right;\">\n",
       "      <th></th>\n",
       "      <th>Car Year</th>\n",
       "      <th>Sale Price</th>\n",
       "      <th>Commission Rate</th>\n",
       "      <th>Commission Earned</th>\n",
       "    </tr>\n",
       "  </thead>\n",
       "  <tbody>\n",
       "    <tr>\n",
       "      <th>count</th>\n",
       "      <td>2.500000e+06</td>\n",
       "      <td>2.500000e+06</td>\n",
       "      <td>2.500000e+06</td>\n",
       "      <td>2.500000e+06</td>\n",
       "    </tr>\n",
       "    <tr>\n",
       "      <th>mean</th>\n",
       "      <td>2.015996e+03</td>\n",
       "      <td>3.001218e+04</td>\n",
       "      <td>9.998766e-02</td>\n",
       "      <td>3.001005e+03</td>\n",
       "    </tr>\n",
       "    <tr>\n",
       "      <th>std</th>\n",
       "      <td>3.739132e+00</td>\n",
       "      <td>1.154514e+04</td>\n",
       "      <td>2.887202e-02</td>\n",
       "      <td>1.481467e+03</td>\n",
       "    </tr>\n",
       "    <tr>\n",
       "      <th>min</th>\n",
       "      <td>2.010000e+03</td>\n",
       "      <td>1.000000e+04</td>\n",
       "      <td>5.000014e-02</td>\n",
       "      <td>5.013400e+02</td>\n",
       "    </tr>\n",
       "    <tr>\n",
       "      <th>25%</th>\n",
       "      <td>2.013000e+03</td>\n",
       "      <td>2.001900e+04</td>\n",
       "      <td>7.496450e-02</td>\n",
       "      <td>1.821710e+03</td>\n",
       "    </tr>\n",
       "    <tr>\n",
       "      <th>50%</th>\n",
       "      <td>2.016000e+03</td>\n",
       "      <td>3.000600e+04</td>\n",
       "      <td>1.000058e-01</td>\n",
       "      <td>2.741910e+03</td>\n",
       "    </tr>\n",
       "    <tr>\n",
       "      <th>75%</th>\n",
       "      <td>2.019000e+03</td>\n",
       "      <td>4.002200e+04</td>\n",
       "      <td>1.250065e-01</td>\n",
       "      <td>3.978142e+03</td>\n",
       "    </tr>\n",
       "    <tr>\n",
       "      <th>max</th>\n",
       "      <td>2.022000e+03</td>\n",
       "      <td>5.000000e+04</td>\n",
       "      <td>1.500000e-01</td>\n",
       "      <td>7.494530e+03</td>\n",
       "    </tr>\n",
       "  </tbody>\n",
       "</table>\n",
       "</div>"
      ],
      "text/plain": [
       "           Car Year    Sale Price  Commission Rate  Commission Earned\n",
       "count  2.500000e+06  2.500000e+06     2.500000e+06       2.500000e+06\n",
       "mean   2.015996e+03  3.001218e+04     9.998766e-02       3.001005e+03\n",
       "std    3.739132e+00  1.154514e+04     2.887202e-02       1.481467e+03\n",
       "min    2.010000e+03  1.000000e+04     5.000014e-02       5.013400e+02\n",
       "25%    2.013000e+03  2.001900e+04     7.496450e-02       1.821710e+03\n",
       "50%    2.016000e+03  3.000600e+04     1.000058e-01       2.741910e+03\n",
       "75%    2.019000e+03  4.002200e+04     1.250065e-01       3.978142e+03\n",
       "max    2.022000e+03  5.000000e+04     1.500000e-01       7.494530e+03"
      ]
     },
     "execution_count": 8,
     "metadata": {},
     "output_type": "execute_result"
    }
   ],
   "source": [
    "df.describe() # summary"
   ]
  },
  {
   "cell_type": "code",
   "execution_count": 9,
   "id": "89cbdce3",
   "metadata": {},
   "outputs": [
    {
     "data": {
      "text/plain": [
       "Date                 0\n",
       "Salesperson          0\n",
       "Customer Name        0\n",
       "Car Make             0\n",
       "Car Model            0\n",
       "Car Year             0\n",
       "Sale Price           0\n",
       "Commission Rate      0\n",
       "Commission Earned    0\n",
       "dtype: int64"
      ]
     },
     "execution_count": 9,
     "metadata": {},
     "output_type": "execute_result"
    }
   ],
   "source": [
    "df.isnull().sum() # no null values."
   ]
  },
  {
   "cell_type": "code",
   "execution_count": 10,
   "id": "8f64cbc5",
   "metadata": {},
   "outputs": [
    {
     "data": {
      "text/plain": [
       "<AxesSubplot:>"
      ]
     },
     "execution_count": 10,
     "metadata": {},
     "output_type": "execute_result"
    },
    {
     "data": {
      "image/png": "[encoded data removed]",
      "text/plain": [
       "<Figure size 1800x720 with 3 Axes>"
      ]
     },
     "metadata": {
      "needs_background": "light"
     },
     "output_type": "display_data"
    }
   ],
   "source": [
    "msno.bar(df) # all values are fully writen without any-missing."
   ]
  },
  {
   "cell_type": "code",
   "execution_count": 11,
   "id": "a83052fb",
   "metadata": {},
   "outputs": [
    {
     "data": {
      "text/plain": [
       "<AxesSubplot:>"
      ]
     },
     "execution_count": 11,
     "metadata": {},
     "output_type": "execute_result"
    },
    {
     "data": {
      "image/png": "[encoded data removed]",
      "text/plain": [
       "<Figure size 1800x720 with 2 Axes>"
      ]
     },
     "metadata": {
      "needs_background": "light"
     },
     "output_type": "display_data"
    }
   ],
   "source": [
    "msno.matrix(df) # no null value pattern"
   ]
  },
  {
   "cell_type": "code",
   "execution_count": 12,
   "id": "b7f6c02c",
   "metadata": {},
   "outputs": [
    {
     "name": "stdout",
     "output_type": "stream",
     "text": [
      "Unique car make: \n",
      " ['Nissan' 'Ford' 'Honda' 'Toyota' 'Chevrolet']\n",
      "\n",
      "Unique car model: \n",
      " ['Altima' 'F-150' 'Civic' 'Silverado' 'Corolla']\n"
     ]
    }
   ],
   "source": [
    "# finding unique car make and car model.\n",
    "\n",
    "unique_car_make=df[\"Car Make\"].unique()\n",
    "unique_car_model=df[\"Car Model\"].unique()\n",
    "\n",
    "print(\"Unique car make: \\n\",unique_car_make)\n",
    "print()\n",
    "print(\"Unique car model: \\n\",unique_car_model)"
   ]
  },
  {
   "cell_type": "code",
   "execution_count": 13,
   "id": "4e16e28d",
   "metadata": {},
   "outputs": [
    {
     "data": {
      "text/plain": [
       "Honda        500687\n",
       "Chevrolet    500455\n",
       "Toyota       500147\n",
       "Ford         499781\n",
       "Nissan       498930\n",
       "Name: Car Make, dtype: int64"
      ]
     },
     "execution_count": 13,
     "metadata": {},
     "output_type": "execute_result"
    }
   ],
   "source": [
    "# value_count- value count is the most frequent \n",
    "# or how many no. of times of thing present there\n",
    "\n",
    "car_make_count=df[\"Car Make\"].value_counts()\n",
    "car_make_count"
   ]
  },
  {
   "cell_type": "code",
   "execution_count": 14,
   "id": "3fc5c556",
   "metadata": {},
   "outputs": [
    {
     "data": {
      "text/plain": [
       "Silverado    500842\n",
       "Civic        500498\n",
       "Corolla      500162\n",
       "F-150        499679\n",
       "Altima       498819\n",
       "Name: Car Model, dtype: int64"
      ]
     },
     "execution_count": 14,
     "metadata": {},
     "output_type": "execute_result"
    }
   ],
   "source": [
    "car_model_count=df[\"Car Model\"].value_counts()\n",
    "car_model_count"
   ]
  },
  {
   "cell_type": "code",
   "execution_count": 15,
   "id": "b0df0ae4",
   "metadata": {},
   "outputs": [
    {
     "name": "stdout",
     "output_type": "stream",
     "text": [
      "Car Make:\n",
      "Honda        20.02748\n",
      "Chevrolet    20.01820\n",
      "Toyota       20.00588\n",
      "Ford         19.99124\n",
      "Nissan       19.95720\n",
      "Name: Car Make, dtype: float64\n",
      "\n",
      "Car Model:\n",
      "Silverado    20.03368\n",
      "Civic        20.01992\n",
      "Corolla      20.00648\n",
      "F-150        19.98716\n",
      "Altima       19.95276\n",
      "Name: Car Model, dtype: float64\n"
     ]
    }
   ],
   "source": [
    "# finding percentage.\n",
    "\n",
    "print(\"Car Make:\")\n",
    "car_make_perc=df[\"Car Make\"].value_counts(normalize=True)*100\n",
    "print(car_make_perc)\n",
    "print()\n",
    "print(\"Car Model:\")\n",
    "car_model_perc=df[\"Car Model\"].value_counts(normalize=True)*100\n",
    "print(car_model_perc)"
   ]
  },
  {
   "cell_type": "code",
   "execution_count": 16,
   "id": "ebe65c44",
   "metadata": {},
   "outputs": [
    {
     "data": {
      "image/png": "[encoded data removed]",
      "text/plain": [
       "<Figure size 576x576 with 1 Axes>"
      ]
     },
     "metadata": {},
     "output_type": "display_data"
    }
   ],
   "source": [
    "car_make_count=df[\"Car Make\"].value_counts()\n",
    "fig, ax=plt.subplots(figsize=(8,8))\n",
    "ax.pie(car_make_count,labels=car_make_count.index,autopct=\"%1.1f%%\",startangle=90)\n",
    "ax.axis(\"equal\")\n",
    "ax.set_title(\"Disribution of Car Make\")\n",
    "plt.show()"
   ]
  },
  {
   "cell_type": "markdown",
   "id": "75b73df7",
   "metadata": {},
   "source": [
    "# "
   ]
  },
  {
   "cell_type": "markdown",
   "id": "f502673d",
   "metadata": {},
   "source": [
    " Top five companies are:- Honda, Toyota, Ford, Chevrolet, Nissan\n",
    " \n",
    " With top five models are:- Silverado, Civic, Corolla, F-150, Atima"
   ]
  },
  {
   "cell_type": "code",
   "execution_count": null,
   "id": "e8334262",
   "metadata": {},
   "outputs": [],
   "source": []
  },
  {
   "cell_type": "code",
   "execution_count": 17,
   "id": "9bac59d2",
   "metadata": {},
   "outputs": [
    {
     "data": {
      "image/png": "[encoded data removed]",
      "text/plain": [
       "<Figure size 576x576 with 1 Axes>"
      ]
     },
     "metadata": {},
     "output_type": "display_data"
    }
   ],
   "source": [
    "car_model_count=df[\"Car Model\"].value_counts()\n",
    "fig, ax=plt.subplots(figsize=(8,8))\n",
    "ax.pie(car_model_count,labels=car_model_count.index,autopct=\"%1.1f%%\",startangle=90)\n",
    "ax.axis(\"equal\")\n",
    "ax.set_title(\"Distribution of Car Model\")\n",
    "plt.show()"
   ]
  },
  {
   "cell_type": "code",
   "execution_count": null,
   "id": "29115854",
   "metadata": {},
   "outputs": [],
   "source": []
  },
  {
   "cell_type": "code",
   "execution_count": 18,
   "id": "8cb4001d",
   "metadata": {
    "scrolled": true
   },
   "outputs": [
    {
     "name": "stdout",
     "output_type": "stream",
     "text": [
      "Michael Smith      1229\n",
      "Michael Johnson     976\n",
      "David Smith         821\n",
      "James Smith         796\n",
      "Jennifer Smith      753\n",
      "Name: Salesperson, dtype: int64\n"
     ]
    }
   ],
   "source": [
    "# top 5 salesperson.\n",
    "top_sale_person=df[\"Salesperson\"].value_counts().head(5)\n",
    "print(top_sale_person)"
   ]
  },
  {
   "cell_type": "markdown",
   "id": "70d7dbed",
   "metadata": {},
   "source": [
    "### Brand Name:-"
   ]
  },
  {
   "cell_type": "code",
   "execution_count": 19,
   "id": "7c21ede5",
   "metadata": {},
   "outputs": [
    {
     "data": {
      "text/plain": [
       "Honda        500687\n",
       "Chevrolet    500455\n",
       "Toyota       500147\n",
       "Ford         499781\n",
       "Nissan       498930\n",
       "Name: Car Make, dtype: int64"
      ]
     },
     "execution_count": 19,
     "metadata": {},
     "output_type": "execute_result"
    }
   ],
   "source": [
    "df[\"Car Make\"].value_counts()"
   ]
  },
  {
   "cell_type": "code",
   "execution_count": 20,
   "id": "2ac8c482",
   "metadata": {},
   "outputs": [
    {
     "name": "stdout",
     "output_type": "stream",
     "text": [
      "Most Sold Brand: Honda\n"
     ]
    }
   ],
   "source": [
    "# The idxmax() method returns a Series with the index of the maximum value for each column. \n",
    "# By specifying the column axis ( axis='columns' ), the idxmax() method returns a Series with the index of the maximum value for each row.\n",
    "\n",
    "most_sold_brand=df[\"Car Make\"].value_counts().idxmax()\n",
    "print(\"Most Sold Brand:\",most_sold_brand)"
   ]
  },
  {
   "cell_type": "code",
   "execution_count": 21,
   "id": "81bbb595",
   "metadata": {},
   "outputs": [
    {
     "name": "stdout",
     "output_type": "stream",
     "text": [
      "Least Sold Brand: Nissan\n"
     ]
    }
   ],
   "source": [
    "# The idxmin() method returns a Series with the index of the minimum value for each column.\n",
    "# By specifying the column axis ( axis='columns' ), the idxmin() method returns a Series with the index of the minimum value for each row.\n",
    "\n",
    "least_sold_brand=df[\"Car Make\"].value_counts().idxmin()\n",
    "print(\"Least Sold Brand:\",least_sold_brand)"
   ]
  },
  {
   "cell_type": "markdown",
   "id": "1ae163a0",
   "metadata": {},
   "source": [
    "### Car Model:-"
   ]
  },
  {
   "cell_type": "code",
   "execution_count": 22,
   "id": "ca21ba44",
   "metadata": {},
   "outputs": [
    {
     "name": "stdout",
     "output_type": "stream",
     "text": [
      "Most Selling Car: Silverado\n"
     ]
    }
   ],
   "source": [
    "# most selling model car name.\n",
    "\n",
    "car_name_most=df[\"Car Model\"].value_counts().idxmax()\n",
    "print(\"Most Selling Car:\",car_name_most)"
   ]
  },
  {
   "cell_type": "code",
   "execution_count": 23,
   "id": "e2ba5dd9",
   "metadata": {},
   "outputs": [
    {
     "name": "stdout",
     "output_type": "stream",
     "text": [
      "Least Selling Brand: Altima\n"
     ]
    }
   ],
   "source": [
    "# least selling model car name.\n",
    "\n",
    "car_name_least=df[\"Car Model\"].value_counts().idxmin()\n",
    "print(\"Least Selling Brand:\",car_name_least)"
   ]
  },
  {
   "cell_type": "markdown",
   "id": "7858d3fe",
   "metadata": {},
   "source": [
    " Most Selling car is HONDA Silverado"
   ]
  },
  {
   "cell_type": "code",
   "execution_count": null,
   "id": "817231bd",
   "metadata": {},
   "outputs": [],
   "source": []
  },
  {
   "cell_type": "markdown",
   "id": "eb557b92",
   "metadata": {},
   "source": [
    "### Yearly Sales:-"
   ]
  },
  {
   "cell_type": "code",
   "execution_count": 24,
   "id": "dbb97486",
   "metadata": {},
   "outputs": [
    {
     "name": "stdout",
     "output_type": "stream",
     "text": [
      "    Car Year  Sale Price\n",
      "5       2015  5787448830\n",
      "7       2017  5785627889\n",
      "3       2013  5785345440\n",
      "10      2020  5782422975\n",
      "0       2010  5781746875\n",
      "4       2014  5779464242\n",
      "6       2016  5777008549\n",
      "8       2018  5776261553\n",
      "2       2012  5776172347\n",
      "9       2019  5768079806\n",
      "1       2011  5751909061\n",
      "11      2021  5744104226\n",
      "12      2022  5734855062\n"
     ]
    }
   ],
   "source": [
    "yearly_sales=df.groupby(\"Car Year\")[\"Sale Price\"].sum().reset_index()\n",
    "yearly_sales=yearly_sales.sort_values(by=\"Sale Price\",ascending=False)\n",
    "print(yearly_sales)"
   ]
  },
  {
   "cell_type": "code",
   "execution_count": 25,
   "id": "ad60a450",
   "metadata": {},
   "outputs": [
    {
     "name": "stdout",
     "output_type": "stream",
     "text": [
      "Car Year\n",
      "2010    5781746875\n",
      "2011    5751909061\n",
      "2012    5776172347\n",
      "2013    5785345440\n",
      "2014    5779464242\n",
      "2015    5787448830\n",
      "2016    5777008549\n",
      "2017    5785627889\n",
      "2018    5776261553\n",
      "2019    5768079806\n",
      "2020    5782422975\n",
      "2021    5744104226\n",
      "2022    5734855062\n",
      "Name: Sale Price, dtype: int64\n",
      "\n",
      "Car Year\n",
      "2010    7.705868\n",
      "2011    7.666100\n",
      "2012    7.698438\n",
      "2013    7.710664\n",
      "2014    7.702825\n",
      "2015    7.713467\n",
      "2016    7.699552\n",
      "2017    7.711040\n",
      "2018    7.698557\n",
      "2019    7.687652\n",
      "2020    7.706769\n",
      "2021    7.655698\n",
      "2022    7.643371\n",
      "Name: Sale Price, dtype: float64\n",
      "\n",
      "Adding all values:\n",
      "5781746875\n",
      "5751909061\n",
      "5776172347\n",
      "5785345440\n",
      "5779464242\n",
      "5787448830\n",
      "5777008549\n",
      "5785627889\n",
      "5776261553\n",
      "5768079806\n",
      "5782422975\n",
      "5744104226\n",
      "5734855062\n",
      "============\n",
      "75030446855\n"
     ]
    }
   ],
   "source": [
    "yearly_sales=df.groupby([\"Car Year\"])[\"Sale Price\"].sum()\n",
    "print(yearly_sales)\n",
    "\n",
    "print()\n",
    "\n",
    "yearly_sales_perc=yearly_sales / yearly_sales.sum() * 100\n",
    "print(yearly_sales_perc)\n",
    "\n",
    "print()\n",
    "\n",
    "# adding all the stuff and find the sum of all with the use of for loop.\n",
    "print(\"Adding all values:\")\n",
    "s=0\n",
    "for i in yearly_sales:\n",
    "    print(i)\n",
    "    s+=i\n",
    "print(\"============\")\n",
    "print(s)"
   ]
  },
  {
   "cell_type": "code",
   "execution_count": 26,
   "id": "decad570",
   "metadata": {},
   "outputs": [
    {
     "data": {
      "image/png": "[encoded data removed]",
      "text/plain": [
       "<Figure size 432x288 with 1 Axes>"
      ]
     },
     "metadata": {
      "needs_background": "light"
     },
     "output_type": "display_data"
    }
   ],
   "source": [
    "plt.plot(yearly_sales.index,yearly_sales_perc.values)\n",
    "plt.xlabel(\"Year\")\n",
    "plt.ylabel(\"Percentage of Sales\")\n",
    "plt.title(\"Yearly Sales Percentage\")\n",
    "plt.show()"
   ]
  },
  {
   "cell_type": "markdown",
   "id": "8a178394",
   "metadata": {},
   "source": [
    "#### the year 2015 have the highest sales and the lowest sales is 2022."
   ]
  },
  {
   "cell_type": "code",
   "execution_count": 27,
   "id": "789e417e",
   "metadata": {},
   "outputs": [
    {
     "data": {
      "image/png": "[encoded data removed]",
      "text/plain": [
       "<Figure size 720x576 with 2 Axes>"
      ]
     },
     "metadata": {
      "needs_background": "light"
     },
     "output_type": "display_data"
    }
   ],
   "source": [
    "plt.figure(figsize=(10,8))\n",
    "sns.heatmap(df.corr(),annot=True)\n",
    "plt.show()"
   ]
  },
  {
   "cell_type": "code",
   "execution_count": 28,
   "id": "8b35ebb9",
   "metadata": {},
   "outputs": [
    {
     "name": "stdout",
     "output_type": "stream",
     "text": [
      "                     Car Year  Sale Price  Commission Rate  Commission Earned\n",
      "Car Year           100.000000   -0.066651        -0.031083          -0.071329\n",
      "Sale Price          -0.066651  100.000000         0.047383          77.931893\n",
      "Commission Rate     -0.031083    0.047383       100.000000          58.517585\n",
      "Commission Earned   -0.071329   77.931893        58.517585         100.000000\n"
     ]
    }
   ],
   "source": [
    "# correlation with checking 100.\n",
    "# if corr() is close to 100 then it means, good-correlation.\n",
    "# if corr() is close to zero or negative then it means, bad-correlation.\n",
    "\n",
    "print(df.corr()*100)"
   ]
  },
  {
   "cell_type": "markdown",
   "id": "1de6592a",
   "metadata": {},
   "source": [
    "- sale price and commmission earned have good relation.if sale price increase then commission earned will also increase.\n",
    "- commission rate and commission earned have a great relation also. if commission earned increase then commission earn will also increase."
   ]
  },
  {
   "cell_type": "code",
   "execution_count": 29,
   "id": "28d9eea5",
   "metadata": {},
   "outputs": [
    {
     "data": {
      "image/png": "[encoded data removed]",
      "text/plain": [
       "<Figure size 432x288 with 1 Axes>"
      ]
     },
     "metadata": {
      "needs_background": "light"
     },
     "output_type": "display_data"
    }
   ],
   "source": [
    "plt.scatter(df[\"Commission Earned\"],df[\"Sale Price\"])\n",
    "plt.xlabel(\"Commission Earned\")\n",
    "plt.ylabel(\"Sale Price\")\n",
    "plt.show()\n",
    "# great correlation between them as sale price increases commission earned also increase."
   ]
  },
  {
   "cell_type": "code",
   "execution_count": 30,
   "id": "7fa2b52f",
   "metadata": {},
   "outputs": [
    {
     "data": {
      "image/png": "[encoded data removed]",
      "text/plain": [
       "<Figure size 432x288 with 1 Axes>"
      ]
     },
     "metadata": {
      "needs_background": "light"
     },
     "output_type": "display_data"
    }
   ],
   "source": [
    "plt.scatter(df[\"Car Year\"],df[\"Sale Price\"])\n",
    "plt.xlabel(\"Car Year\")\n",
    "plt.ylabel(\"Sale Price\")\n",
    "plt.show()"
   ]
  },
  {
   "cell_type": "markdown",
   "id": "846c4b22",
   "metadata": {},
   "source": [
    "#### no, correlation between them and we can see car year not having good relation with other variable."
   ]
  },
  {
   "cell_type": "code",
   "execution_count": null,
   "id": "2e178fdf",
   "metadata": {},
   "outputs": [],
   "source": []
  },
  {
   "cell_type": "markdown",
   "id": "3ae68c6c",
   "metadata": {},
   "source": [
    "### Do, new car have coorelation with Sales Price?"
   ]
  },
  {
   "cell_type": "code",
   "execution_count": 31,
   "id": "996f87c1",
   "metadata": {},
   "outputs": [
    {
     "data": {
      "text/plain": [
       "-0.0006665070424949036"
      ]
     },
     "execution_count": 31,
     "metadata": {},
     "output_type": "execute_result"
    }
   ],
   "source": [
    "corr=df[\"Car Year\"].corr(df[\"Sale Price\"])\n",
    "corr"
   ]
  },
  {
   "cell_type": "markdown",
   "id": "6c7a456e",
   "metadata": {},
   "source": [
    "So, there is no coorelation it is in negative."
   ]
  },
  {
   "cell_type": "markdown",
   "id": "0af92db9",
   "metadata": {},
   "source": [
    "### Is there a difference in commission earned between different Car Model?"
   ]
  },
  {
   "cell_type": "code",
   "execution_count": 32,
   "id": "6a30abac",
   "metadata": {
    "scrolled": true
   },
   "outputs": [
    {
     "data": {
      "text/plain": [
       "Car Model\n",
       "Altima       3002.709561\n",
       "Civic        2998.917742\n",
       "Corolla      3003.309835\n",
       "F-150        2997.871415\n",
       "Silverado    3002.219432\n",
       "Name: Commission Earned, dtype: float64"
      ]
     },
     "execution_count": 32,
     "metadata": {},
     "output_type": "execute_result"
    }
   ],
   "source": [
    "commission=df.groupby(\"Car Model\")[\"Commission Earned\"].mean()\n",
    "commission"
   ]
  },
  {
   "cell_type": "markdown",
   "id": "008d435a",
   "metadata": {},
   "source": [
    "the average commission is similar and it's range from 2997 to 3003. so, there is no difference here."
   ]
  },
  {
   "cell_type": "markdown",
   "id": "06ef8bca",
   "metadata": {},
   "source": [
    "### Top 10 Sales Person who earn the highest commission and did top sales."
   ]
  },
  {
   "cell_type": "code",
   "execution_count": 33,
   "id": "36a770b9",
   "metadata": {},
   "outputs": [
    {
     "name": "stdout",
     "output_type": "stream",
     "text": [
      "Salesperson\n",
      "Michael Smith        36806401\n",
      "Michael Johnson      29012949\n",
      "David Smith          24208781\n",
      "James Smith          23905299\n",
      "Michael Williams     22816628\n",
      "Robert Smith         22541917\n",
      "Jennifer Smith       22384383\n",
      "Christopher Smith    22342430\n",
      "John Smith           21970840\n",
      "Michael Jones        20768839\n",
      "Name: Sale Price, dtype: int64\n",
      "\n",
      "Salesperson\n",
      "Michael Smith        3658467.56\n",
      "Michael Johnson      2883629.29\n",
      "David Smith          2456566.33\n",
      "James Smith          2448405.59\n",
      "Robert Smith         2275950.52\n",
      "Michael Williams     2263033.88\n",
      "Jennifer Smith       2233631.21\n",
      "John Smith           2227050.87\n",
      "Christopher Smith    2222190.97\n",
      "Michael Jones        2083043.66\n",
      "Name: Commission Earned, dtype: float64\n"
     ]
    }
   ],
   "source": [
    "sale_price=df.groupby(\"Salesperson\")[\"Sale Price\"].sum().sort_values(ascending=False).head(10)\n",
    "print(sale_price)\n",
    "print()\n",
    "commission=df.groupby(\"Salesperson\")[\"Commission Earned\"].sum().sort_values(ascending=False).head(10)\n",
    "print(commission)"
   ]
  },
  {
   "cell_type": "markdown",
   "id": "2833905f",
   "metadata": {},
   "source": [
    "after analyzing the car data, severeral insights were obtained. This dataset contain information on car sale, make,date etc.\n",
    "\n",
    "Some of the key findings from the analysis.\n",
    "- The top 5 companies are Honda, Toyota, Ford, Chevrolet, Nissan.\n",
    "- Top 5 car models are Silverado, Civic, Corolla, F-150, Atima.\n",
    "- Top 5 salesman Michael Smith, Michael Johnson, David Smith, James Smith, Jennifer Smith\n",
    "- most selling brand is HONDA Silverado and Least selling brand name is Nissan Altima\n",
    "- The highest sales happen in 2015 and the least sales happen in 2022\n",
    "- Car year have no correltion with other attributes.\n",
    "- New cars and sales price correlation is negative it means, new cars does not have good sales.\n",
    "- The sales man commission earned is similar it is vary from 2997 to 3003. So, there is no difference."
   ]
  },
  {
   "cell_type": "code",
   "execution_count": null,
   "id": "2c7d8513",
   "metadata": {},
   "outputs": [],
   "source": []
  }
 ],
 "metadata": {
  "kernelspec": {
   "display_name": "Python 3",
   "language": "python",
   "name": "python3"
  },
  "language_info": {
   "codemirror_mode": {
    "name": "ipython",
    "version": 3
   },
   "file_extension": ".py",
   "mimetype": "text/x-python",
   "name": "python",
   "nbconvert_exporter": "python",
   "pygments_lexer": "ipython3",
   "version": "3.8.8"
  }
 },
 "nbformat": 4,
 "nbformat_minor": 5
}
